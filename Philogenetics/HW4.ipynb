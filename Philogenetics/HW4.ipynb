{
 "cells": [
  {
   "cell_type": "markdown",
   "metadata": {},
   "source": [
    "# Домашнее задание №2\n",
    "## 1. Алгоритм W(U)PGMA."
   ]
  },
  {
   "cell_type": "code",
   "execution_count": 178,
   "metadata": {},
   "outputs": [],
   "source": [
    "\"\"\"Filogenetics algorithms W(U)PGMA.\"\"\"\n",
    "\n",
    "def pgma(M, type='w'):\n",
    "    \"\"\"Function.\n",
    "\n",
    "    It implements WPGMA or UPGMA\n",
    "    philogenetics algorithms.\n",
    "    M - distance matrix(list).\n",
    "    \"\"\"\n",
    "    n = len(M)\n",
    "    sets = {str(M[0][i]): None for i in range(1, n)}\n",
    "\n",
    "    while len(M) > 2:\n",
    "        n = len(M)\n",
    "        \n",
    "        # finding minimum:\n",
    "        p_i = 1\n",
    "        p_j = 2\n",
    "        min = M[p_i][p_j]\n",
    "        for i in range(1, n):\n",
    "            for j in range(i + 1, n):\n",
    "                if M[i][j] < min:\n",
    "                    min = M[i][j]\n",
    "                    p_i = i\n",
    "                    p_j = j\n",
    "\n",
    "        if n == 3:\n",
    "            new_node = 'root'\n",
    "        else:\n",
    "            new_node = str(M[p_i][0])+str(M[0][p_j])\n",
    "        sets[new_node] = (str(M[p_i][0]), str(M[0][p_j]), M[p_i][p_j]/2)\n",
    "\n",
    "        # new matrix counting:\n",
    "\n",
    "        if p_i < p_j:\n",
    "            indices = list(range(p_i)) + list(range(p_i + 1, p_j)) + \\\n",
    "                      list(range(p_j + 1, n))\n",
    "        else:\n",
    "            indices = list(range(p_j)) + list(range(p_j + 1, p_i)) + \\\n",
    "                      list(range(p_i + 1, n))\n",
    "\n",
    "        new_column = [new_node]\n",
    "        for i in indices:\n",
    "            if i > 0:\n",
    "                d1 = M[i][p_i] if M[i][p_i] else M[p_i][i]\n",
    "                d2 = M[p_j][i] if M[p_j][i] else M[i][p_j]\n",
    "                if type == 'w':\n",
    "                    new_column.append((d1+d2)/2)\n",
    "                else:\n",
    "                    new_column.append((d2*len(M[0][p_j]) +\\\n",
    "                                       d1*len(M[i][0])) /\\\n",
    "                                      (len(M[0][p_j]) + \\\n",
    "                                       len(M[p_i][0])))\n",
    "        new_column.append(None)\n",
    "\n",
    "        M = [[M[i][j] for j in indices] for i in indices]\n",
    "        M.append([new_node] + [None] * (n - 3))\n",
    "        for i in range(n - 1):\n",
    "            M[i].append(new_column[i])\n",
    "            \n",
    "        # Newick format creating:\n",
    "        def recur(sets, root='root'):\n",
    "            if not sets[root]:\n",
    "                return root\n",
    "            else:\n",
    "                if len(sets[root][0]) > 1:\n",
    "                    left = '('+ recur(sets, sets[root][0]) + ')'+':'+str(sets[root][2]-sets[sets[root][0]][2])+','\n",
    "                else:\n",
    "                    left = recur(sets, sets[root][0]) +':'+str(sets[root][2])+','\n",
    "                if len(sets[root][1]) > 1:\n",
    "                    right = '('+ recur(sets, sets[root][1]) + ')'+':'+str(sets[root][2]-sets[sets[root][1]][2])\n",
    "                else:\n",
    "                    right = recur(sets, sets[root][1])+':'+str(sets[root][2])\n",
    "                return left + right\n",
    "\n",
    "    newick = '('+recur(sets)+');'\n",
    "\n",
    "    print(newick)\n",
    "    return(newick)"
   ]
  },
  {
   "cell_type": "code",
   "execution_count": 182,
   "metadata": {},
   "outputs": [],
   "source": [
    "from ete3 import Tree, NodeStyle, TreeStyle\n",
    "\n",
    "def vis_tree(t_newick):\n",
    "    t = Tree(t_newick)\n",
    "    # Basic tree style\n",
    "    ts = TreeStyle()\n",
    "    ts.show_leaf_name = True\n",
    "\n",
    "    # Draws nodes as small red spheres of diameter equal to 10 pixels\n",
    "    nstyle = NodeStyle()\n",
    "    # nstyle[\"shape\"] = \"sphere\"\n",
    "    # nstyle[\"size\"] = 10\n",
    "    nstyle[\"fgcolor\"] = \"blue\"\n",
    "\n",
    "    # Gray dashed branch lines\n",
    "    nstyle[\"hz_line_type\"] = 3\n",
    "    nstyle[\"hz_line_color\"] = \"#aaaaaa\"\n",
    "    # Applies the same static style to all nodes in the tree. Note that,\n",
    "    # if \"nstyle\" is modified, changes will affect to all nodes\n",
    "    for n in t.traverse():\n",
    "        \n",
    "        n.set_style(nstyle)\n",
    "    return t.render(\"%%inline\", tree_style=ts)"
   ]
  },
  {
   "cell_type": "markdown",
   "metadata": {},
   "source": [
    "### Test 1.\n",
    "### WPGMA"
   ]
  },
  {
   "cell_type": "code",
   "execution_count": 183,
   "metadata": {},
   "outputs": [
    {
     "name": "stdout",
     "output_type": "stream",
     "text": [
      "(A:7.25,(B:4.0,(C:2.0,D:2.0):2.0):3.25);\n"
     ]
    },
    {
     "data": {
      "image/png": "[encoded data removed]",
      "text/plain": [
       "<IPython.core.display.Image object>"
      ]
     },
     "execution_count": 183,
     "metadata": {},
     "output_type": "execute_result"
    }
   ],
   "source": [
    "M = [[None, 'A', 'B', 'C', 'D'],\n",
    "     ['A', None, 16, 16, 10],\n",
    "     ['B', None, None, 8, 8],\n",
    "     ['C', None, None, None, 4],\n",
    "     ['D', None, None, None, None]]\n",
    "\n",
    "vis_tree(pgma(M))"
   ]
  },
  {
   "cell_type": "markdown",
   "metadata": {},
   "source": [
    "### UPGMA"
   ]
  },
  {
   "cell_type": "code",
   "execution_count": 184,
   "metadata": {},
   "outputs": [
    {
     "name": "stdout",
     "output_type": "stream",
     "text": [
      "(A:7.0,(B:4.0,(C:2.0,D:2.0):2.0):3.0);\n"
     ]
    },
    {
     "data": {
      "image/png": "[encoded data removed]",
      "text/plain": [
       "<IPython.core.display.Image object>"
      ]
     },
     "execution_count": 184,
     "metadata": {},
     "output_type": "execute_result"
    }
   ],
   "source": [
    "vis_tree(pgma(M, 'U'))"
   ]
  },
  {
   "cell_type": "markdown",
   "metadata": {},
   "source": [
    "### Test 2.\n",
    "### WPGMA"
   ]
  },
  {
   "cell_type": "code",
   "execution_count": 185,
   "metadata": {},
   "outputs": [
    {
     "name": "stdout",
     "output_type": "stream",
     "text": [
      "(F:4.5,((D:2.5,E:2.5):1.5,(B:3.0,(A:2.0,C:2.0):1.0):1.0):0.5);\n"
     ]
    },
    {
     "data": {
      "image/png": "[encoded data removed]",
      "text/plain": [
       "<IPython.core.display.Image object>"
      ]
     },
     "execution_count": 185,
     "metadata": {},
     "output_type": "execute_result"
    }
   ],
   "source": [
    "M = [[None, 'A', 'B', 'C', 'D', 'E', 'F'],\n",
    "     ['A', None, 5, 4, 7, 6, 8],\n",
    "     ['B', None, None, 7, 10, 9, 11],\n",
    "     ['C', None, None, None, 7, 6, 8],\n",
    "     ['D', None, None, None, None, 5, 9],\n",
    "     ['E', None, None, None, None, None, 8],\n",
    "     ['F', None, None, None, None, None, None]]\n",
    "\n",
    "vis_tree(pgma(M))"
   ]
  },
  {
   "cell_type": "markdown",
   "metadata": {},
   "source": [
    "### UPGMA"
   ]
  },
  {
   "cell_type": "code",
   "execution_count": 187,
   "metadata": {},
   "outputs": [
    {
     "name": "stdout",
     "output_type": "stream",
     "text": [
      "((B:3.0,(A:2.0,C:2.0):1.0):5.833333333333334,(F:4.25,(D:2.5,E:2.5):1.75):4.583333333333334);\n"
     ]
    },
    {
     "data": {
      "image/png": "[encoded data removed]",
      "text/plain": [
       "<IPython.core.display.Image object>"
      ]
     },
     "execution_count": 187,
     "metadata": {},
     "output_type": "execute_result"
    }
   ],
   "source": [
    "vis_tree(pgma(M,'u'))"
   ]
  },
  {
   "cell_type": "code",
   "execution_count": null,
   "metadata": {},
   "outputs": [],
   "source": []
  }
 ],
 "metadata": {
  "kernelspec": {
   "display_name": "Python 3",
   "language": "python",
   "name": "python3"
  },
  "language_info": {
   "codemirror_mode": {
    "name": "ipython",
    "version": 3
   },
   "file_extension": ".py",
   "mimetype": "text/x-python",
   "name": "python",
   "nbconvert_exporter": "python",
   "pygments_lexer": "ipython3",
   "version": "3.6.5"
  }
 },
 "nbformat": 4,
 "nbformat_minor": 2
}
