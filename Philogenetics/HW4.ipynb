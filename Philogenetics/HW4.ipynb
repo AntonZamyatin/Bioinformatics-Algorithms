{
 "cells": [
  {
   "cell_type": "markdown",
   "metadata": {},
   "source": [
    "# Домашнее задание №2\n",
    "## 1. Алгоритм W(U)PGMA."
   ]
  },
  {
   "cell_type": "code",
   "execution_count": 4,
   "metadata": {},
   "outputs": [],
   "source": [
    "\"\"\"Filogenetics algorithms W(U)PGMA.\"\"\"\n",
    "\n",
    "def pgma(M, type='w'):\n",
    "    \"\"\"Function.\n",
    "\n",
    "    It implements WPGMA or UPGMA\n",
    "    philogenetics algorithms.\n",
    "    M - distance matrix(list).\n",
    "    \"\"\"\n",
    "    n = len(M)\n",
    "    sets = {str(M[0][i]): None for i in range(1, n)}\n",
    "\n",
    "    while len(M) > 2:\n",
    "        n = len(M)\n",
    "        \n",
    "        # finding minimum:\n",
    "        p_i = 1\n",
    "        p_j = 2\n",
    "        min = M[p_i][p_j]\n",
    "        for i in range(1, n):\n",
    "            for j in range(i + 1, n):\n",
    "                if M[i][j] < min:\n",
    "                    min = M[i][j]\n",
    "                    p_i = i\n",
    "                    p_j = j\n",
    "\n",
    "        if n == 3:\n",
    "            new_node = 'root'\n",
    "        else:\n",
    "            new_node = str(M[p_i][0])+str(M[0][p_j])\n",
    "        sets[new_node] = (str(M[p_i][0]), str(M[0][p_j]), M[p_i][p_j]/2)\n",
    "\n",
    "        # new matrix counting:\n",
    "\n",
    "        if p_i < p_j:\n",
    "            indices = list(range(p_i)) + list(range(p_i + 1, p_j)) + \\\n",
    "                      list(range(p_j + 1, n))\n",
    "        else:\n",
    "            indices = list(range(p_j)) + list(range(p_j + 1, p_i)) + \\\n",
    "                      list(range(p_i + 1, n))\n",
    "\n",
    "        new_column = [new_node]\n",
    "        for i in indices:\n",
    "            if i > 0:\n",
    "                d1 = M[i][p_i] if M[i][p_i] else M[p_i][i]\n",
    "                d2 = M[p_j][i] if M[p_j][i] else M[i][p_j]\n",
    "                if type == 'w':\n",
    "                    new_column.append((d1+d2)/2)\n",
    "                else:\n",
    "                    new_column.append((d2*len(M[0][p_j]) +\\\n",
    "                                       d1*len(M[i][0])) /\\\n",
    "                                      (len(M[0][p_j]) + \\\n",
    "                                       len(M[p_i][0])))\n",
    "        new_column.append(None)\n",
    "\n",
    "        M = [[M[i][j] for j in indices] for i in indices]\n",
    "        M.append([new_node] + [None] * (n - 3))\n",
    "        for i in range(n - 1):\n",
    "            M[i].append(new_column[i])\n",
    "            \n",
    "        # Newick format creating:\n",
    "        def recur(sets, root='root'):\n",
    "            if not sets[root]:\n",
    "                return root\n",
    "            else:\n",
    "                if len(sets[root][0]) > 1:\n",
    "                    left = '('+ recur(sets, sets[root][0]) + ')'+':'+str(sets[root][2]-sets[sets[root][0]][2])+','\n",
    "                else:\n",
    "                    left = recur(sets, sets[root][0]) +':'+str(sets[root][2])+','\n",
    "                if len(sets[root][1]) > 1:\n",
    "                    right = '('+ recur(sets, sets[root][1]) + ')'+':'+str(sets[root][2]-sets[sets[root][1]][2])\n",
    "                else:\n",
    "                    right = recur(sets, sets[root][1])+':'+str(sets[root][2])\n",
    "                return left + right\n",
    "\n",
    "    newick = '('+recur(sets)+');'\n",
    "\n",
    "    print(newick)\n",
    "    return(newick)"
   ]
  },
  {
   "cell_type": "code",
   "execution_count": 5,
   "metadata": {},
   "outputs": [],
   "source": [
    "from ete3 import Tree, NodeStyle, TreeStyle\n",
    "\n",
    "def vis_tree(t_newick):\n",
    "    t = Tree(t_newick)\n",
    "    # Basic tree style\n",
    "    ts = TreeStyle()\n",
    "    ts.show_leaf_name = True\n",
    "\n",
    "    # Draws nodes as small red spheres of diameter equal to 10 pixels\n",
    "    nstyle = NodeStyle()\n",
    "    # nstyle[\"shape\"] = \"sphere\"\n",
    "    # nstyle[\"size\"] = 10\n",
    "    nstyle[\"fgcolor\"] = \"blue\"\n",
    "\n",
    "    # Gray dashed branch lines\n",
    "    nstyle[\"hz_line_type\"] = 3\n",
    "    nstyle[\"hz_line_color\"] = \"#aaaaaa\"\n",
    "    # Applies the same static style to all nodes in the tree. Note that,\n",
    "    # if \"nstyle\" is modified, changes will affect to all nodes\n",
    "    for n in t.traverse():\n",
    "        \n",
    "        n.set_style(nstyle)\n",
    "    return t.render(\"%%inline\", tree_style=ts)"
   ]
  },
  {
   "cell_type": "markdown",
   "metadata": {},
   "source": [
    "### Test 1.\n",
    "### WPGMA"
   ]
  },
  {
   "cell_type": "code",
   "execution_count": 6,
   "metadata": {},
   "outputs": [
    {
     "name": "stdout",
     "output_type": "stream",
     "text": [
      "(A:7.25,(B:4.0,(C:2.0,D:2.0):2.0):3.25);\n"
     ]
    },
    {
     "data": {
      "image/png": "[encoded data removed]",
      "text/plain": [
       "<IPython.core.display.Image object>"
      ]
     },
     "execution_count": 6,
     "metadata": {},
     "output_type": "execute_result"
    }
   ],
   "source": [
    "M = [[None, 'A', 'B', 'C', 'D'],\n",
    "     ['A', None, 16, 16, 10],\n",
    "     ['B', None, None, 8, 8],\n",
    "     ['C', None, None, None, 4],\n",
    "     ['D', None, None, None, None]]\n",
    "\n",
    "vis_tree(pgma(M))"
   ]
  },
  {
   "cell_type": "markdown",
   "metadata": {},
   "source": [
    "### UPGMA"
   ]
  },
  {
   "cell_type": "code",
   "execution_count": 7,
   "metadata": {},
   "outputs": [
    {
     "name": "stdout",
     "output_type": "stream",
     "text": [
      "(A:7.0,(B:4.0,(C:2.0,D:2.0):2.0):3.0);\n"
     ]
    },
    {
     "data": {
      "image/png": "[encoded data removed]",
      "text/plain": [
       "<IPython.core.display.Image object>"
      ]
     },
     "execution_count": 7,
     "metadata": {},
     "output_type": "execute_result"
    }
   ],
   "source": [
    "vis_tree(pgma(M, 'U'))"
   ]
  },
  {
   "cell_type": "markdown",
   "metadata": {},
   "source": [
    "### Test 2.\n",
    "### WPGMA"
   ]
  },
  {
   "cell_type": "code",
   "execution_count": 8,
   "metadata": {},
   "outputs": [
    {
     "name": "stdout",
     "output_type": "stream",
     "text": [
      "(F:4.5,((D:2.5,E:2.5):1.5,(B:3.0,(A:2.0,C:2.0):1.0):1.0):0.5);\n"
     ]
    },
    {
     "data": {
      "image/png": "[encoded data removed]",
      "text/plain": [
       "<IPython.core.display.Image object>"
      ]
     },
     "execution_count": 8,
     "metadata": {},
     "output_type": "execute_result"
    }
   ],
   "source": [
    "M = [[None, 'A', 'B', 'C', 'D', 'E', 'F'],\n",
    "     ['A', None, 5, 4, 7, 6, 8],\n",
    "     ['B', None, None, 7, 10, 9, 11],\n",
    "     ['C', None, None, None, 7, 6, 8],\n",
    "     ['D', None, None, None, None, 5, 9],\n",
    "     ['E', None, None, None, None, None, 8],\n",
    "     ['F', None, None, None, None, None, None]]\n",
    "\n",
    "vis_tree(pgma(M))"
   ]
  },
  {
   "cell_type": "markdown",
   "metadata": {},
   "source": [
    "### UPGMA"
   ]
  },
  {
   "cell_type": "code",
   "execution_count": 9,
   "metadata": {},
   "outputs": [
    {
     "name": "stdout",
     "output_type": "stream",
     "text": [
      "((B:3.0,(A:2.0,C:2.0):1.0):5.833333333333334,(F:4.25,(D:2.5,E:2.5):1.75):4.583333333333334);\n"
     ]
    },
    {
     "data": {
      "image/png": "[encoded data removed]",
      "text/plain": [
       "<IPython.core.display.Image object>"
      ]
     },
     "execution_count": 9,
     "metadata": {},
     "output_type": "execute_result"
    }
   ],
   "source": [
    "vis_tree(pgma(M,'u'))"
   ]
  },
  {
   "cell_type": "markdown",
   "metadata": {},
   "source": [
    "## 2. Neighbour joining"
   ]
  },
  {
   "cell_type": "code",
   "execution_count": 41,
   "metadata": {},
   "outputs": [],
   "source": [
    "def nj(M):\n",
    "\n",
    "    n = len(M)\n",
    "    sets = {str(M[0][i]): None for i in range(1, n)}\n",
    "\n",
    "    def mirror(M):\n",
    "        for i in range(len(M)):\n",
    "            for j in range(i):\n",
    "                M[i][j] = M[j][i]\n",
    "\n",
    "    mirror(M)\n",
    "\n",
    "    while len(M) > 3:\n",
    "        n = len(M)\n",
    "\n",
    "        # finding minimum:\n",
    "        min = 1000000007\n",
    "        for i in range(1, n):\n",
    "            for j in range(i + 1, n):\n",
    "                di = sum([M[i][k] for k in list(range(1, i))\n",
    "                                         + list(range(i+1, j))\n",
    "                                         + list(range(j+1, n))]) / (n-3)\n",
    "                dj = sum([M[k][j] for k in list(range(1, i))\n",
    "                                         + list(range(i+1, j))\n",
    "                                         + list(range(j+1, n))]) / (n-3)\n",
    "                Dij = M[i][j] - di -dj\n",
    "                if Dij < min:\n",
    "                    min = Dij\n",
    "                    p_i = i\n",
    "                    p_j = j\n",
    "                    p_di = di\n",
    "                    p_dj = dj\n",
    "\n",
    "        new_node = str(M[p_i][0])+str(M[0][p_j])\n",
    "        left_d = 0.5*(M[p_i][p_j] + p_di - p_dj)\n",
    "        right_d = 0.5*(M[p_i][p_j] + p_dj - p_di)\n",
    "        sets[new_node] = (str(M[p_i][0]), str(M[0][p_j]), left_d, right_d)\n",
    "\n",
    "        # new matrix counting:\n",
    "\n",
    "        indices = list(range(p_i)) + list(range(p_i + 1, p_j))\\\n",
    "                                   + list(range(p_j + 1, n))\n",
    "        new_column = [new_node]\n",
    "        for i in indices:\n",
    "            if i > 0:\n",
    "                d1 = M[i][p_i]\n",
    "                d2 = M[p_j][i]\n",
    "                new_column.append((d1+d2 - M[p_i][p_j])/2)\n",
    "        new_column.append(None)\n",
    "\n",
    "        M = [[M[i][j] for j in indices] for i in indices]\n",
    "        M.append([new_node] + [None] * (n - 3))\n",
    "        for i in range(n - 1):\n",
    "            M[i].append(new_column[i])\n",
    "        mirror(M)\n",
    "\n",
    "    edge_list = [(M[0][1], M[0][2])]\n",
    "    lenght_list = [M[1][2]]\n",
    "\n",
    "    for key in sets.keys():\n",
    "        if sets[key]:\n",
    "            edge_list += [(key, sets[key][0]), (key, sets[key][1])]\n",
    "            lenght_list += [sets[key][2], sets[key][3]]\n",
    "    return (edge_list, lenght_list)"
   ]
  },
  {
   "cell_type": "code",
   "execution_count": 78,
   "metadata": {},
   "outputs": [],
   "source": [
    "import networkx as nx\n",
    "import matplotlib.pyplot as plt\n",
    "%matplotlib inline\n",
    "def draw_unroot(M):\n",
    "    H = nx.Graph()\n",
    "    edgelist, lengths = nj(M)\n",
    "    n = len(edgelist)\n",
    "    edgelist = [(edgelist[i][0],edgelist[i][1], {'len':round(lengths[i], 2)}) for i in range(n)]\n",
    "    H.add_edges_from(edgelist)\n",
    "\n",
    "    pos=nx.spring_layout(H)\n",
    "    edge_labels=dict([((u,v,),d['len'])\n",
    "                 for u,v,d in H.edges(data=True)])\n",
    "    #print(edge_labels)\n",
    "    labels=dict([(u[0], u[0] if len(u[0])==1 else '') for u in H.nodes(data=True)])\n",
    "    #print(labels)\n",
    "\n",
    "    nx.draw(H, with_labels=False, pos=pos, node_color=\"cyan\", node_size=700)\n",
    "\n",
    "    labels=nx.draw_networkx_labels(H,pos=pos, labels=labels)\n",
    "\n",
    "    nx.draw_networkx_edge_labels(H, pos, edge_labels=edge_labels)"
   ]
  },
  {
   "cell_type": "markdown",
   "metadata": {},
   "source": [
    "### Test 1."
   ]
  },
  {
   "cell_type": "code",
   "execution_count": 80,
   "metadata": {},
   "outputs": [
    {
     "data": {
      "image/png": "[encoded data removed]",
      "text/plain": [
       "<Figure size 432x288 with 1 Axes>"
      ]
     },
     "metadata": {},
     "output_type": "display_data"
    }
   ],
   "source": [
    "M = [[None, 'A', 'B', 'C', 'D'],\n",
    "     ['A', None, 16, 16, 10],\n",
    "     ['B', None, None, 8, 8],\n",
    "     ['C', None, None, None, 4],\n",
    "     ['D', None, None, None, None]]\n",
    "\n",
    "draw_unroot(M)"
   ]
  },
  {
   "cell_type": "markdown",
   "metadata": {},
   "source": [
    "### Test 2."
   ]
  },
  {
   "cell_type": "code",
   "execution_count": 82,
   "metadata": {},
   "outputs": [
    {
     "data": {
      "image/png": "[encoded data removed]",
      "text/plain": [
       "<Figure size 432x288 with 1 Axes>"
      ]
     },
     "metadata": {},
     "output_type": "display_data"
    }
   ],
   "source": [
    "M = [[None, 'A', 'B', 'C', 'D', 'E', 'F'],\n",
    "     ['A', None, 5, 4, 7, 6, 8],\n",
    "     ['B', None, None, 7, 10, 9, 11],\n",
    "     ['C', None, None, None, 7, 6, 8],\n",
    "     ['D', None, None, None, None, 5, 9],\n",
    "     ['E', None, None, None, None, None, 8],\n",
    "     ['F', None, None, None, None, None, None]]\n",
    "\n",
    "draw_unroot(M)"
   ]
  },
  {
   "cell_type": "code",
   "execution_count": null,
   "metadata": {},
   "outputs": [],
   "source": []
  }
 ],
 "metadata": {
  "kernelspec": {
   "display_name": "Python 3",
   "language": "python",
   "name": "python3"
  },
  "language_info": {
   "codemirror_mode": {
    "name": "ipython",
    "version": 3
   },
   "file_extension": ".py",
   "mimetype": "text/x-python",
   "name": "python",
   "nbconvert_exporter": "python",
   "pygments_lexer": "ipython3",
   "version": "3.6.5"
  }
 },
 "nbformat": 4,
 "nbformat_minor": 2
}
