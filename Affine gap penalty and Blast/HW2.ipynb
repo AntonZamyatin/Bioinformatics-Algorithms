{
 "cells": [
  {
   "cell_type": "markdown",
   "metadata": {},
   "source": [
    "# Домашнее задание №2\n",
    "## 1. Алгоритм глобального выравнивания с аффинными гэпами.\n",
    "\n",
    "Тестовые последовательности:\n"
   ]
  },
  {
   "cell_type": "code",
   "execution_count": 1,
   "metadata": {},
   "outputs": [],
   "source": [
    "a = \"TCCCAGTTATGTCAGGGGACACGAGCATGCAGAGAC\"\n",
    "b = \"AATTGCCGCCGTCGTTTTCAGCAGTTATGTCAGATC\""
   ]
  },
  {
   "cell_type": "markdown",
   "metadata": {},
   "source": [
    "Алгоритм:"
   ]
  },
  {
   "cell_type": "code",
   "execution_count": 2,
   "metadata": {},
   "outputs": [],
   "source": [
    "import numpy as np \n",
    "\n",
    "def affine_gap_alining(a, b, *args, printing=0):\n",
    "    \"\"\"Affine gap penalty alining algorithm function.\n",
    "\n",
    "    a,b - 1st and 2nd strings\n",
    "    *args - list of scores for match, missmatch and gap\n",
    "    print - matrises printing flag\n",
    "    Function prints global alining for a and b\n",
    "    \"\"\"\n",
    "    match_score = args[0]\n",
    "    missmatch_score = args[1]\n",
    "    gap_enter = args[2]\n",
    "    gap_elong = args[3]\n",
    "\n",
    "    def print_matrix(matrix):\n",
    "        \"\"\"Weight matrix printing.\"\"\"\n",
    "        print(' ', '-', sep='\\t', end='\\t')\n",
    "        for ch in b:\n",
    "            print(ch, end='\\t')\n",
    "        print()\n",
    "        for i in range(len(matrix)):\n",
    "            if i == 0:\n",
    "                print('-', end='\\t')\n",
    "                for el in matrix[i]:\n",
    "                    print(el if el < 0 else \" \" + str(el), end='\\t')\n",
    "                print()\n",
    "            else:\n",
    "                print(a[i - 1], end='\\t')\n",
    "                for el in matrix[i]:\n",
    "                    print(el if el < 0 else \" \" + str(el), end='\\t')\n",
    "                print()\n",
    "        return\n",
    "\n",
    "    def match(a, b, i, j):\n",
    "        if a[i-1] == b[j-1]:\n",
    "            return match_score\n",
    "        else:\n",
    "            return missmatch_score\n",
    "\n",
    "    # initialization\n",
    "    x = len(a) + 1\n",
    "    y = len(b) + 1\n",
    "    gap_A = np.zeros((x, y))\n",
    "    M = np.zeros((x, y))\n",
    "    gap_B = np.zeros((x, y))\n",
    "\n",
    "    for i in range(x):\n",
    "        if i == 1:\n",
    "            gap_A[i, 0], M[i, 0], gap_B[i, 0] = [gap_enter + gap_elong] * 3\n",
    "        elif i > 1:\n",
    "            gap_A[i, 0] = gap_A[i-1, 0] + gap_elong\n",
    "            gap_B[i, 0] = gap_B[i-1, 0] + gap_elong\n",
    "            M[i, 0] = M[i-1, 0] + gap_elong\n",
    "\n",
    "    for j in range(y):\n",
    "        if j == 1:\n",
    "            gap_A[0, j], M[0, j], gap_B[0, j] = [gap_enter + gap_elong] * 3\n",
    "        elif j > 1:\n",
    "            gap_A[0, j] = gap_A[0, j-1] + gap_elong\n",
    "            gap_B[0, j] = gap_B[0, j-1] + gap_elong\n",
    "            M[0, j] = M[0, j-1] + gap_elong\n",
    "        \n",
    "    # weight matrises formation\n",
    "\n",
    "    for i in range(1, len(a) + 1):\n",
    "        for j in range(1, len(b) + 1):\n",
    "            gap_A[i, j] = max((gap_enter + gap_elong + M[i, j-1]),\n",
    "                              (gap_elong + gap_A[i, j-1]))\n",
    "            gap_B[i, j] = max((gap_enter + gap_elong + M[i-1, j]),\n",
    "                              (gap_elong + gap_B[i-1, j]))\n",
    "            M[i, j] = max(match(a, b, i, j) + M[i-1, j-1],\n",
    "                          gap_A[i, j], gap_B[i, j])\n",
    "\n",
    "    # matrix printing\n",
    "    if printing:\n",
    "        print_matrix(gap_A)\n",
    "        print()\n",
    "        print_matrix(M)\n",
    "        print()\n",
    "        print_matrix(gap_B)\n",
    "        print()\n",
    "\n",
    "    # reverse matrix traversal and alignment making\n",
    "\n",
    "    i = len(a)\n",
    "    j = len(b)\n",
    "    s_a, s_b, s_c = '', '', ''\n",
    "\n",
    "    while (i > 0) or (j > 0):\n",
    "        if i > 0 and j > 0 and M[i, j] == M[i-1, j-1] + match(a, b, i, j):\n",
    "            s_a = a[i - 1] + s_a\n",
    "            s_b = b[j - 1] + s_b\n",
    "            s_c = (\"|\" if a[i - 1] == b[j - 1] else \" \") + s_c\n",
    "            i -= 1\n",
    "            j -= 1\n",
    "        elif i > 0 and M[i, j] == gap_B[i, j]:\n",
    "            s_b = '-' + s_b\n",
    "            s_a = a[i - 1] + s_a\n",
    "            s_c = \" \" + s_c\n",
    "            i -= 1\n",
    "        elif j > 0 and M[i, j] == gap_A[i, j]:\n",
    "            s_a = '-' + s_a\n",
    "            s_b = b[j - 1] + s_b\n",
    "            s_c = \" \" + s_c\n",
    "            j -= 1\n",
    "        else:\n",
    "            print(\"problem\")\n",
    "            break\n",
    "\n",
    "    # print alignment\n",
    "\n",
    "    if len(a) <= 50:\n",
    "        print(\"a: \" + s_a)\n",
    "        print(\"   \" + s_c)\n",
    "        print(\"b: \" + s_b)\n",
    "    else:\n",
    "        for n in range(len(s_a) // 50):\n",
    "            print(\"a [{}:{}]: \".format(50*n, 50*n+49) + s_a[n*50:n*50+50])\n",
    "            print(\"  \" + \" \"*len(\"[{}:{}]: \".format(50*n, 50*n+49)) +\n",
    "                  s_c[n*50:n*50+50])\n",
    "            print(\"b [{}:{}]: \".format(50*n, 50*n+49) + s_b[n*50:n*50+50])\n",
    "            print()\n",
    "        if len(s_a) % 50:\n",
    "            print(\"a [{}:{}]: \".format(50*(n+1), 50*(n+1)+49) + s_a[(n+1)*50:])\n",
    "            print(\"  \" + \" \"*len(\"[{}:{}]: \".format(50*(n+1), 50*(n+1)+49)) +\n",
    "                  s_c[(n+1)*50:])\n",
    "            print(\"b [{}:{}]: \".format(50*(n+1), 50*(n+1)+49) + s_b[(n+1)*50:])\n",
    "            print()\n",
    "\n",
    "    return"
   ]
  },
  {
   "cell_type": "markdown",
   "metadata": {},
   "source": [
    "### Test 0\n",
    "Вес совпадения: 1\n",
    "\n",
    "Вес несовпадения: -1\n",
    "\n",
    "Штраф за открытие гэпа (-p): -1\n",
    "\n",
    "Штраф за продолжение (-d): -1"
   ]
  },
  {
   "cell_type": "code",
   "execution_count": 3,
   "metadata": {},
   "outputs": [
    {
     "name": "stdout",
     "output_type": "stream",
     "text": [
      " \t-\tA\tA\tC\tC\tG\tG\tC\tC\tG\tG\t\n",
      "-\t 0.0\t-101.0\t-102.0\t-103.0\t-104.0\t-105.0\t-106.0\t-107.0\t-108.0\t-109.0\t-110.0\t\n",
      "A\t-101.0\t-102.0\t-100.0\t-101.0\t-102.0\t-103.0\t-104.0\t-105.0\t-106.0\t-107.0\t-108.0\t\n",
      "A\t-102.0\t-103.0\t-104.0\t-99.0\t-100.0\t-101.0\t-102.0\t-103.0\t-104.0\t-105.0\t-106.0\t\n",
      "A\t-103.0\t-104.0\t-105.0\t-106.0\t-100.0\t-101.0\t-102.0\t-103.0\t-104.0\t-105.0\t-106.0\t\n",
      "C\t-104.0\t-105.0\t-106.0\t-107.0\t-108.0\t-99.0\t-100.0\t-101.0\t-102.0\t-103.0\t-104.0\t\n",
      "C\t-105.0\t-106.0\t-107.0\t-108.0\t-109.0\t-110.0\t-100.0\t-101.0\t-102.0\t-103.0\t-104.0\t\n",
      "G\t-106.0\t-107.0\t-108.0\t-109.0\t-110.0\t-111.0\t-112.0\t-99.0\t-100.0\t-101.0\t-102.0\t\n",
      "T\t-107.0\t-108.0\t-109.0\t-110.0\t-111.0\t-112.0\t-113.0\t-114.0\t-100.0\t-101.0\t-102.0\t\n",
      "C\t-108.0\t-109.0\t-110.0\t-111.0\t-112.0\t-113.0\t-114.0\t-115.0\t-116.0\t-99.0\t-100.0\t\n",
      "C\t-109.0\t-110.0\t-111.0\t-112.0\t-113.0\t-114.0\t-115.0\t-116.0\t-117.0\t-118.0\t-100.0\t\n",
      "G\t-110.0\t-111.0\t-112.0\t-113.0\t-114.0\t-115.0\t-116.0\t-117.0\t-118.0\t-119.0\t-120.0\t\n",
      "G\t-111.0\t-112.0\t-113.0\t-114.0\t-115.0\t-116.0\t-117.0\t-118.0\t-119.0\t-120.0\t-121.0\t\n",
      "\n",
      " \t-\tA\tA\tC\tC\tG\tG\tC\tC\tG\tG\t\n",
      "-\t 0.0\t-101.0\t-102.0\t-103.0\t-104.0\t-105.0\t-106.0\t-107.0\t-108.0\t-109.0\t-110.0\t\n",
      "A\t-101.0\t 1.0\t-100.0\t-101.0\t-102.0\t-103.0\t-104.0\t-105.0\t-106.0\t-107.0\t-108.0\t\n",
      "A\t-102.0\t-100.0\t 2.0\t-99.0\t-100.0\t-101.0\t-102.0\t-103.0\t-104.0\t-105.0\t-106.0\t\n",
      "A\t-103.0\t-101.0\t-99.0\t 1.0\t-100.0\t-101.0\t-102.0\t-103.0\t-104.0\t-105.0\t-106.0\t\n",
      "C\t-104.0\t-102.0\t-100.0\t-98.0\t 2.0\t-99.0\t-100.0\t-101.0\t-102.0\t-103.0\t-104.0\t\n",
      "C\t-105.0\t-103.0\t-101.0\t-99.0\t-97.0\t 1.0\t-100.0\t-99.0\t-100.0\t-103.0\t-104.0\t\n",
      "G\t-106.0\t-104.0\t-102.0\t-102.0\t-100.0\t-96.0\t 2.0\t-99.0\t-100.0\t-99.0\t-102.0\t\n",
      "T\t-107.0\t-105.0\t-103.0\t-103.0\t-101.0\t-101.0\t-97.0\t 1.0\t-100.0\t-101.0\t-100.0\t\n",
      "C\t-108.0\t-106.0\t-104.0\t-102.0\t-102.0\t-102.0\t-100.0\t-96.0\t 2.0\t-99.0\t-100.0\t\n",
      "C\t-109.0\t-107.0\t-105.0\t-103.0\t-101.0\t-103.0\t-101.0\t-99.0\t-95.0\t 1.0\t-100.0\t\n",
      "G\t-110.0\t-108.0\t-106.0\t-106.0\t-104.0\t-100.0\t-102.0\t-102.0\t-100.0\t-94.0\t 2.0\t\n",
      "G\t-111.0\t-109.0\t-107.0\t-107.0\t-105.0\t-103.0\t-99.0\t-103.0\t-101.0\t-99.0\t-93.0\t\n",
      "\n",
      " \t-\tA\tA\tC\tC\tG\tG\tC\tC\tG\tG\t\n",
      "-\t 0.0\t-101.0\t-102.0\t-103.0\t-104.0\t-105.0\t-106.0\t-107.0\t-108.0\t-109.0\t-110.0\t\n",
      "A\t-101.0\t-102.0\t-103.0\t-104.0\t-105.0\t-106.0\t-107.0\t-108.0\t-109.0\t-110.0\t-111.0\t\n",
      "A\t-102.0\t-100.0\t-104.0\t-105.0\t-106.0\t-107.0\t-108.0\t-109.0\t-110.0\t-111.0\t-112.0\t\n",
      "A\t-103.0\t-101.0\t-99.0\t-106.0\t-107.0\t-108.0\t-109.0\t-110.0\t-111.0\t-112.0\t-113.0\t\n",
      "C\t-104.0\t-102.0\t-100.0\t-100.0\t-108.0\t-109.0\t-110.0\t-111.0\t-112.0\t-113.0\t-114.0\t\n",
      "C\t-105.0\t-103.0\t-101.0\t-101.0\t-99.0\t-110.0\t-111.0\t-112.0\t-113.0\t-114.0\t-115.0\t\n",
      "G\t-106.0\t-104.0\t-102.0\t-102.0\t-100.0\t-100.0\t-112.0\t-113.0\t-114.0\t-115.0\t-116.0\t\n",
      "T\t-107.0\t-105.0\t-103.0\t-103.0\t-101.0\t-101.0\t-99.0\t-114.0\t-115.0\t-116.0\t-117.0\t\n",
      "C\t-108.0\t-106.0\t-104.0\t-104.0\t-102.0\t-102.0\t-100.0\t-100.0\t-116.0\t-117.0\t-118.0\t\n",
      "C\t-109.0\t-107.0\t-105.0\t-105.0\t-103.0\t-103.0\t-101.0\t-101.0\t-99.0\t-118.0\t-119.0\t\n",
      "G\t-110.0\t-108.0\t-106.0\t-106.0\t-104.0\t-104.0\t-102.0\t-102.0\t-100.0\t-100.0\t-120.0\t\n",
      "G\t-111.0\t-109.0\t-107.0\t-107.0\t-105.0\t-105.0\t-103.0\t-103.0\t-101.0\t-101.0\t-99.0\t\n",
      "\n",
      "a: AAACCGTCCGG\n",
      "    ||||| ||||\n",
      "b: -AACCGGCCGG\n"
     ]
    }
   ],
   "source": [
    "affine_gap_alining(\"AAACCGTCCGG\",\"AACCGGCCGG\", 1, -1, -100, -1, printing = 1)"
   ]
  },
  {
   "cell_type": "markdown",
   "metadata": {},
   "source": [
    "### Тест 1\n",
    "Вес совпадения: 1\n",
    "\n",
    "Вес несовпадения: -1\n",
    "\n",
    "Штраф за открытие гэпа (-p): 0\n",
    "\n",
    "Штраф за продолжение (-d): -1\n"
   ]
  },
  {
   "cell_type": "code",
   "execution_count": 4,
   "metadata": {},
   "outputs": [
    {
     "name": "stdout",
     "output_type": "stream",
     "text": [
      "a: ---T-CC-CAGT--TATGTCAGGGGACACGAGCATG-CAGAGAC\n",
      "      | || | ||  | | |||   | || |   ||| ||||  |\n",
      "b: AATTGCCGCCGTCGT-TTTCA---G-CA-G-TTATGTCAGA-TC\n"
     ]
    }
   ],
   "source": [
    "affine_gap_alining(a, b, 1, -1, 0, -1)"
   ]
  },
  {
   "cell_type": "markdown",
   "metadata": {},
   "source": [
    "### Тест 2. \n",
    "Вес совпадения: 1\n",
    "\n",
    "Вес несовпадения: -1\n",
    "\n",
    "Штраф за открытие гэпа (-p): -100\n",
    "\n",
    "Штраф за продолжение (-d): -0.01\n"
   ]
  },
  {
   "cell_type": "code",
   "execution_count": 5,
   "metadata": {},
   "outputs": [
    {
     "name": "stdout",
     "output_type": "stream",
     "text": [
      "a: TCCCAGTTATGTCAGGGGACACGAGCATGCAGAGAC\n",
      "             |||        |    |||      |\n",
      "b: AATTGCCGCCGTCGTTTTCAGCAGTTATGTCAGATC\n"
     ]
    }
   ],
   "source": [
    "affine_gap_alining(a, b, 1, -1, -100, -0.01)"
   ]
  },
  {
   "cell_type": "markdown",
   "metadata": {},
   "source": [
    "### Тест 3. \n",
    "Вес совпадения: 1\n",
    "\n",
    "Вес несовпадения: -1\n",
    "\n",
    "Штраф за открытие гэпа (-p): +0.5 (награждаем за открытие)\n",
    "\n",
    "Штраф за продолжение (-d): -0.3\n"
   ]
  },
  {
   "cell_type": "code",
   "execution_count": 6,
   "metadata": {},
   "outputs": [
    {
     "name": "stdout",
     "output_type": "stream",
     "text": [
      "a: --T---C--C--CAGTTATGTCAGGGGACACG--A-GCATGCAGA-GAC\n",
      "     |   |  |  | ||| | |||   | || |  | |  | ||||   |\n",
      "b: AATTGCCGCCGTC-GTT-T-TCA---G-CA-GTTATG--T-CAGAT--C\n"
     ]
    }
   ],
   "source": [
    "affine_gap_alining(a, b, 1, -1, 0.5, -0.3)"
   ]
  },
  {
   "cell_type": "code",
   "execution_count": null,
   "metadata": {},
   "outputs": [],
   "source": []
  },
  {
   "cell_type": "markdown",
   "metadata": {},
   "source": [
    "# BLASTn\n",
    "Генерация последовательностей:"
   ]
  },
  {
   "cell_type": "code",
   "execution_count": 8,
   "metadata": {},
   "outputs": [],
   "source": [
    "import random\n",
    "\n",
    "alpha = {0: \"A\", 1: \"C\", 2: \"G\", 3: \"T\"}\n",
    "s1 = s2 = s3 = ''\n",
    "i = 0\n",
    "while i != 100000:\n",
    "    if i < 100:\n",
    "        s1 += alpha[random.randint(0, 3)]\n",
    "    if i < 1000:\n",
    "        s2 += alpha[random.randint(0, 3)]\n",
    "    s3 += alpha[random.randint(0, 3)]\n",
    "    i += 1"
   ]
  },
  {
   "attachments": {},
   "cell_type": "markdown",
   "metadata": {},
   "source": [
    "### Результаты\n",
    "100:\n",
    "![100.png](screenshots/100.png)\n",
    "\n",
    "\n",
    "\n",
    "1000:\n",
    "![1000.png](screenshots/1000.png)\n",
    "\n",
    "\n",
    "\n",
    "100000:\n",
    "![100000.png](screenshots/100000.png)"
   ]
  },
  {
   "cell_type": "code",
   "execution_count": null,
   "metadata": {},
   "outputs": [],
   "source": []
  },
  {
   "cell_type": "code",
   "execution_count": null,
   "metadata": {},
   "outputs": [],
   "source": []
  }
 ],
 "metadata": {
  "kernelspec": {
   "display_name": "Python 3",
   "language": "python",
   "name": "python3"
  },
  "language_info": {
   "codemirror_mode": {
    "name": "ipython",
    "version": 3
   },
   "file_extension": ".py",
   "mimetype": "text/x-python",
   "name": "python",
   "nbconvert_exporter": "python",
   "pygments_lexer": "ipython3",
   "version": "3.6.5"
  }
 },
 "nbformat": 4,
 "nbformat_minor": 2
}
